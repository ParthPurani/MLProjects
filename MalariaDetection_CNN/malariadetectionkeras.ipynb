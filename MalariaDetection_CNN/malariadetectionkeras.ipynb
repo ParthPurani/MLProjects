{
 "cells": [
  {
   "cell_type": "code",
   "execution_count": 1,
   "metadata": {
    "_cell_guid": "b1076dfc-b9ad-4769-8c92-a6c4dae69d19",
    "_uuid": "8f2839f25d086af736a60e9eeb907d3b93b6e0e5"
   },
   "outputs": [
    {
     "name": "stdout",
     "output_type": "stream",
     "text": [
      "['Uninfected', 'Parasitized']\n"
     ]
    }
   ],
   "source": [
    "import numpy as np\n",
    "from PIL import Image\n",
    "import os\n",
    "print(os.listdir(\"../input/cell_images/cell_images\"))\n",
    "\n",
    "# Any results you write to the current directory are saved as output."
   ]
  },
  {
   "cell_type": "code",
   "execution_count": 2,
   "metadata": {
    "_cell_guid": "79c7e3d0-c299-4dcb-8224-4455121ee9b0",
    "_uuid": "d629ff2d2480ee46fbb7e2d37f6b5fab8052498a"
   },
   "outputs": [
    {
     "name": "stderr",
     "output_type": "stream",
     "text": [
      "Using TensorFlow backend.\n"
     ]
    }
   ],
   "source": [
    "import numpy as np\n",
    "from keras.models import Sequential\n",
    "from keras.preprocessing.image import ImageDataGenerator\n",
    "from keras import optimizers\n",
    "from sklearn.metrics import precision_score, recall_score\n",
    "from keras.layers import Dense,BatchNormalization,Activation,Dropout,Flatten,Conv2D,MaxPooling2D,AveragePooling2D"
   ]
  },
  {
   "cell_type": "code",
   "execution_count": 3,
   "metadata": {},
   "outputs": [],
   "source": [
    "img_width, img_height = 64,64\n",
    "l_rate = 0.001\n",
    "_batch_size = 16\n",
    "_epochs = 12\n",
    "train_dir = \"../input/cell_images/cell_images\"\n"
   ]
  },
  {
   "cell_type": "code",
   "execution_count": 4,
   "metadata": {},
   "outputs": [
    {
     "name": "stdout",
     "output_type": "stream",
     "text": [
      "WARNING:tensorflow:From /opt/conda/lib/python3.6/site-packages/tensorflow/python/framework/op_def_library.py:263: colocate_with (from tensorflow.python.framework.ops) is deprecated and will be removed in a future version.\n",
      "Instructions for updating:\n",
      "Colocations handled automatically by placer.\n",
      "WARNING:tensorflow:From /opt/conda/lib/python3.6/site-packages/keras/backend/tensorflow_backend.py:3445: calling dropout (from tensorflow.python.ops.nn_ops) with keep_prob is deprecated and will be removed in a future version.\n",
      "Instructions for updating:\n",
      "Please use `rate` instead of `keep_prob`. Rate should be set to `rate = 1 - keep_prob`.\n",
      "_________________________________________________________________\n",
      "Layer (type)                 Output Shape              Param #   \n",
      "=================================================================\n",
      "conv2d_1 (Conv2D)            (None, 62, 62, 16)        448       \n",
      "_________________________________________________________________\n",
      "activation_1 (Activation)    (None, 62, 62, 16)        0         \n",
      "_________________________________________________________________\n",
      "batch_normalization_1 (Batch (None, 62, 62, 16)        64        \n",
      "_________________________________________________________________\n",
      "max_pooling2d_1 (MaxPooling2 (None, 31, 31, 16)        0         \n",
      "_________________________________________________________________\n",
      "conv2d_2 (Conv2D)            (None, 29, 29, 32)        4640      \n",
      "_________________________________________________________________\n",
      "activation_2 (Activation)    (None, 29, 29, 32)        0         \n",
      "_________________________________________________________________\n",
      "batch_normalization_2 (Batch (None, 29, 29, 32)        128       \n",
      "_________________________________________________________________\n",
      "max_pooling2d_2 (MaxPooling2 (None, 14, 14, 32)        0         \n",
      "_________________________________________________________________\n",
      "conv2d_3 (Conv2D)            (None, 12, 12, 64)        18496     \n",
      "_________________________________________________________________\n",
      "activation_3 (Activation)    (None, 12, 12, 64)        0         \n",
      "_________________________________________________________________\n",
      "batch_normalization_3 (Batch (None, 12, 12, 64)        256       \n",
      "_________________________________________________________________\n",
      "max_pooling2d_3 (MaxPooling2 (None, 6, 6, 64)          0         \n",
      "_________________________________________________________________\n",
      "flatten_1 (Flatten)          (None, 2304)              0         \n",
      "_________________________________________________________________\n",
      "dense_1 (Dense)              (None, 1024)              2360320   \n",
      "_________________________________________________________________\n",
      "dropout_1 (Dropout)          (None, 1024)              0         \n",
      "_________________________________________________________________\n",
      "dense_2 (Dense)              (None, 1024)              1049600   \n",
      "_________________________________________________________________\n",
      "dense_3 (Dense)              (None, 1)                 1025      \n",
      "=================================================================\n",
      "Total params: 3,434,977\n",
      "Trainable params: 3,434,753\n",
      "Non-trainable params: 224\n",
      "_________________________________________________________________\n",
      "Compiled\n"
     ]
    }
   ],
   "source": [
    "#model\n",
    "model = Sequential()\n",
    "\n",
    "model.add(Conv2D(16,(3,3), input_shape=(img_width, img_height, 3)))\n",
    "model.add(Activation('relu'))\n",
    "model.add(BatchNormalization())\n",
    "model.add(MaxPooling2D(pool_size=(2, 2)))\n",
    "model.add(Conv2D(32,(3,3)))\n",
    "model.add(Activation('relu'))\n",
    "model.add(BatchNormalization())\n",
    "model.add(MaxPooling2D(pool_size=(2, 2)))\n",
    "model.add(Conv2D(64,(3,3)))\n",
    "model.add(Activation('relu'))\n",
    "model.add(BatchNormalization())\n",
    "model.add(MaxPooling2D(pool_size=(2, 2)))\n",
    "model.add(Flatten())\n",
    "model.add(Dense(1024,activation='relu'))\n",
    "model.add(Dropout(0.5))\n",
    "model.add(Dense(1024,activation='relu'))\n",
    "model.add(Dense(1,activation='sigmoid'))\n",
    "model.summary()\n",
    "\n",
    "SGD = optimizers.sgd(lr = l_rate, decay= 1e-6 , momentum=0.8, nesterov=True)\n",
    "model.compile(\n",
    "loss='binary_crossentropy',\n",
    "optimizer=SGD,\n",
    "metrics=['accuracy']\n",
    ")\n",
    "print('Compiled')\n"
   ]
  },
  {
   "cell_type": "code",
   "execution_count": 5,
   "metadata": {},
   "outputs": [
    {
     "name": "stdout",
     "output_type": "stream",
     "text": [
      "Found 22048 images belonging to 2 classes.\n",
      "Found 5510 images belonging to 2 classes.\n",
      "WARNING:tensorflow:From /opt/conda/lib/python3.6/site-packages/tensorflow/python/ops/math_ops.py:3066: to_int32 (from tensorflow.python.ops.math_ops) is deprecated and will be removed in a future version.\n",
      "Instructions for updating:\n",
      "Use tf.cast instead.\n",
      "Epoch 1/12\n",
      "1378/1378 [==============================] - 216s 157ms/step - loss: 0.3970 - acc: 0.8148 - val_loss: 0.1942 - val_acc: 0.9282\n",
      "Epoch 2/12\n",
      "1378/1378 [==============================] - 197s 143ms/step - loss: 0.1746 - acc: 0.9409 - val_loss: 0.1919 - val_acc: 0.9296\n",
      "Epoch 3/12\n",
      "1378/1378 [==============================] - 197s 143ms/step - loss: 0.1599 - acc: 0.9473 - val_loss: 0.1602 - val_acc: 0.9421\n",
      "Epoch 4/12\n",
      "1378/1378 [==============================] - 198s 143ms/step - loss: 0.1480 - acc: 0.9504 - val_loss: 0.1589 - val_acc: 0.9408\n",
      "Epoch 5/12\n",
      " 463/1378 [=========>....................] - ETA: 2:02 - loss: 0.1441 - acc: 0.9532"
     ]
    }
   ],
   "source": [
    "datagen = ImageDataGenerator(\n",
    "rescale= 1./255,\n",
    "horizontal_flip=True,\n",
    "vertical_flip=True,    \n",
    "validation_split=0.2\n",
    ")\n",
    "train_generator = datagen.flow_from_directory(\n",
    "directory=train_dir,\n",
    "target_size=(img_width, img_height),\n",
    "classes=['Parasitized','Uninfected'],\n",
    "class_mode='binary',\n",
    "batch_size=_batch_size,\n",
    "subset='training'\n",
    ")\n",
    "validation_generator = datagen.flow_from_directory(\n",
    "directory=train_dir,\n",
    "target_size=(img_width, img_height),\n",
    "classes=['Parasitized','Uninfected'],\n",
    "class_mode='binary',\n",
    "batch_size=_batch_size,\n",
    "subset='validation'\n",
    ")\n",
    "training = model.fit_generator(\n",
    "generator=train_generator,\n",
    "steps_per_epoch=1378,\n",
    "epochs= _epochs,\n",
    "validation_steps=344,\n",
    "validation_data=validation_generator,\n",
    ")\n",
    "print('training done')\n",
    "#model.save_weights('E://kaggle_malaria_detection//models//Malaria_cnn.h5')"
   ]
  },
  {
   "cell_type": "code",
   "execution_count": 6,
   "metadata": {},
   "outputs": [
    {
     "name": "stdout",
     "output_type": "stream",
     "text": [
      "Gonna predict these images.\n",
      "         1st is Parasitized\n",
      "         2nd is Uninfected\n"
     ]
    },
    {
     "data": {
      "image/png": "[encoded data removed]",
      "text/plain": [
       "<Figure size 432x288 with 2 Axes>"
      ]
     },
     "metadata": {},
     "output_type": "display_data"
    }
   ],
   "source": [
    "import matplotlib.pyplot as plt\n",
    "rand_img_P = \"../input/cell_images/cell_images/Parasitized/C101P62ThinF_IMG_20150918_151149_cell_69.png\"\n",
    "img_P = Image.open(rand_img_P)\n",
    "rand_img_U = \"../input/cell_images/cell_images/Uninfected/C100P61ThinF_IMG_20150918_150041_cell_127.png\"\n",
    "img_U = Image.open(rand_img_U)\n",
    "f, axarr = plt.subplots(2)\n",
    "axarr[0].imshow(img_P)\n",
    "axarr[1].imshow(img_U)\n",
    "print('''Gonna predict these images.\n",
    "         1st is Parasitized\n",
    "         2nd is Uninfected''')"
   ]
  },
  {
   "cell_type": "code",
   "execution_count": 7,
   "metadata": {},
   "outputs": [
    {
     "name": "stdout",
     "output_type": "stream",
     "text": [
      "Classes :  {'Parasitized': 0, 'Uninfected': 1}\n",
      "Prediction for Parasitized Image :  [[0]]\n",
      "Prediction for Uninfected Image :  [[1]]\n"
     ]
    }
   ],
   "source": [
    "print('Classes : ',train_generator.class_indices)\n",
    "img_P = np.asarray(img_P.resize((64,64)))\n",
    "img_P = img_P.reshape(1,64,64,3)\n",
    "img_U = np.asarray(img_U.resize((64,64)))\n",
    "img_U = img_U.reshape(1,64,64,3)\n",
    "\n",
    "x1 = model.predict_classes(img_P)\n",
    "x2 = model.predict_classes(img_U)\n",
    "\n",
    "print(\"Prediction for Parasitized Image : \",x1)\n",
    "print(\"Prediction for Uninfected Image : \",x2)"
   ]
  }
 ],
 "metadata": {
  "kernelspec": {
   "display_name": "Python 3",
   "language": "python",
   "name": "python3"
  },
  "language_info": {
   "codemirror_mode": {
    "name": "ipython",
    "version": 3
   },
   "file_extension": ".py",
   "mimetype": "text/x-python",
   "name": "python",
   "nbconvert_exporter": "python",
   "pygments_lexer": "ipython3",
   "version": "3.6.4"
  }
 },
 "nbformat": 4,
 "nbformat_minor": 1
}
